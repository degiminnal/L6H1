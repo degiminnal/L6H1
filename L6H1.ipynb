{
 "cells": [
  {
   "cell_type": "code",
   "execution_count": 6,
   "id": "1c8b9677",
   "metadata": {},
   "outputs": [
    {
     "data": {
      "text/html": [
       "<div>\n",
       "<style scoped>\n",
       "    .dataframe tbody tr th:only-of-type {\n",
       "        vertical-align: middle;\n",
       "    }\n",
       "\n",
       "    .dataframe tbody tr th {\n",
       "        vertical-align: top;\n",
       "    }\n",
       "\n",
       "    .dataframe thead th {\n",
       "        text-align: right;\n",
       "    }\n",
       "</style>\n",
       "<table border=\"1\" class=\"dataframe\">\n",
       "  <thead>\n",
       "    <tr style=\"text-align: right;\">\n",
       "      <th></th>\n",
       "      <th>age</th>\n",
       "      <th>gender</th>\n",
       "      <th>watch</th>\n",
       "    </tr>\n",
       "  </thead>\n",
       "  <tbody>\n",
       "    <tr>\n",
       "      <th>0</th>\n",
       "      <td>34</td>\n",
       "      <td>0</td>\n",
       "      <td>digital</td>\n",
       "    </tr>\n",
       "    <tr>\n",
       "      <th>1</th>\n",
       "      <td>22</td>\n",
       "      <td>0</td>\n",
       "      <td>smart</td>\n",
       "    </tr>\n",
       "    <tr>\n",
       "      <th>2</th>\n",
       "      <td>50</td>\n",
       "      <td>1</td>\n",
       "      <td>quartz</td>\n",
       "    </tr>\n",
       "    <tr>\n",
       "      <th>3</th>\n",
       "      <td>19</td>\n",
       "      <td>1</td>\n",
       "      <td>quartz</td>\n",
       "    </tr>\n",
       "    <tr>\n",
       "      <th>4</th>\n",
       "      <td>51</td>\n",
       "      <td>0</td>\n",
       "      <td>smart</td>\n",
       "    </tr>\n",
       "  </tbody>\n",
       "</table>\n",
       "</div>"
      ],
      "text/plain": [
       "   age  gender    watch\n",
       "0   34       0  digital\n",
       "1   22       0    smart\n",
       "2   50       1   quartz\n",
       "3   19       1   quartz\n",
       "4   51       0    smart"
      ]
     },
     "execution_count": 6,
     "metadata": {},
     "output_type": "execute_result"
    }
   ],
   "source": [
    "import pandas as pd\n",
    "import pickle as pkl\n",
    "music = \"watch\"\n",
    "\n",
    "watch = pd.read_csv(f\"./data/{music}.csv\")\n",
    "watch.head()"
   ]
  },
  {
   "cell_type": "code",
   "execution_count": 2,
   "id": "b9ec5f7d",
   "metadata": {},
   "outputs": [
    {
     "data": {
      "text/html": [
       "<div>\n",
       "<style scoped>\n",
       "    .dataframe tbody tr th:only-of-type {\n",
       "        vertical-align: middle;\n",
       "    }\n",
       "\n",
       "    .dataframe tbody tr th {\n",
       "        vertical-align: top;\n",
       "    }\n",
       "\n",
       "    .dataframe thead th {\n",
       "        text-align: right;\n",
       "    }\n",
       "</style>\n",
       "<table border=\"1\" class=\"dataframe\">\n",
       "  <thead>\n",
       "    <tr style=\"text-align: right;\">\n",
       "      <th></th>\n",
       "      <th>age</th>\n",
       "      <th>salary</th>\n",
       "      <th>class</th>\n",
       "    </tr>\n",
       "  </thead>\n",
       "  <tbody>\n",
       "    <tr>\n",
       "      <th>0</th>\n",
       "      <td>25</td>\n",
       "      <td>5000</td>\n",
       "      <td>white</td>\n",
       "    </tr>\n",
       "    <tr>\n",
       "      <th>1</th>\n",
       "      <td>37</td>\n",
       "      <td>3000</td>\n",
       "      <td>blue</td>\n",
       "    </tr>\n",
       "    <tr>\n",
       "      <th>2</th>\n",
       "      <td>29</td>\n",
       "      <td>3600</td>\n",
       "      <td>white</td>\n",
       "    </tr>\n",
       "    <tr>\n",
       "      <th>3</th>\n",
       "      <td>40</td>\n",
       "      <td>2800</td>\n",
       "      <td>pink</td>\n",
       "    </tr>\n",
       "    <tr>\n",
       "      <th>4</th>\n",
       "      <td>44</td>\n",
       "      <td>4500</td>\n",
       "      <td>white</td>\n",
       "    </tr>\n",
       "  </tbody>\n",
       "</table>\n",
       "</div>"
      ],
      "text/plain": [
       "   age  salary  class\n",
       "0   25    5000  white\n",
       "1   37    3000   blue\n",
       "2   29    3600  white\n",
       "3   40    2800   pink\n",
       "4   44    4500  white"
      ]
     },
     "execution_count": 2,
     "metadata": {},
     "output_type": "execute_result"
    }
   ],
   "source": [
    "X = watch.drop(columns=[f\"{music}\"])\n",
    "X.head()"
   ]
  },
  {
   "cell_type": "code",
   "execution_count": 3,
   "id": "e0d8b5c8",
   "metadata": {},
   "outputs": [
    {
     "data": {
      "text/plain": [
       "0      MPV\n",
       "1    truck\n",
       "2    truck\n",
       "3    sedan\n",
       "4    sedan\n",
       "Name: vehicle, dtype: object"
      ]
     },
     "execution_count": 3,
     "metadata": {},
     "output_type": "execute_result"
    }
   ],
   "source": [
    "y = watch[f\"{music}\"]\n",
    "y.head()"
   ]
  },
  {
   "cell_type": "code",
   "execution_count": 8,
   "id": "de60e718",
   "metadata": {},
   "outputs": [],
   "source": [
    "import numpy as np\n",
    "from sklearn.tree import DecisionTreeClassifier\n",
    "\n",
    "class MyClassfier(DecisionTreeClassifier):\n",
    "    def __init__(self):\n",
    "        super().__init__()\n",
    "        self.dic = dict()\n",
    "        \n",
    "    def encodeStr(self, x):\n",
    "        x = x.copy()\n",
    "        for i,col in enumerate(x.columns):\n",
    "            if str(x[col].dtype)!=\"object\":\n",
    "                continue\n",
    "            dic = {_:i for i,_ in enumerate(list(set(x[col])))}\n",
    "            x[col] = np.array([dic[_] for _ in x[col]])\n",
    "            self.dic[i] = dic\n",
    "        return x\n",
    "    \n",
    "    def fit(self, x, y):\n",
    "        x = self.encodeStr(x)\n",
    "        return super().fit(x,y)\n",
    "        \n",
    "    def convert_(self,x):\n",
    "        try:\n",
    "            float(x)\n",
    "            return float(x)\n",
    "        except:\n",
    "            return -1\n",
    "\n",
    "    def predict(self, datas):\n",
    "        datas = [[self.dic.get(i_,{x_:self.convert_(x_)}).get(x_, -1) for i_,x_ in enumerate(data)] for data in datas]\n",
    "        return super().predict(datas)\n",
    "\n"
   ]
  },
  {
   "cell_type": "code",
   "execution_count": 4,
   "id": "3959d8a7",
   "metadata": {},
   "outputs": [],
   "source": [
    "# model = MyClassfier()\n",
    "# model.fit(X,y)\n",
    "# model.predict(X.to_numpy())==y"
   ]
  },
  {
   "cell_type": "code",
   "execution_count": 218,
   "id": "4fef3124",
   "metadata": {},
   "outputs": [
    {
     "data": {
      "text/plain": [
       "['watch-recommender.joblib']"
      ]
     },
     "execution_count": 218,
     "metadata": {},
     "output_type": "execute_result"
    }
   ],
   "source": [
    "import joblib\n",
    "joblib.dump(model,f\"./app/{music}-recommender.joblib\")"
   ]
  },
  {
   "cell_type": "code",
   "execution_count": 20,
   "id": "e2daeda9",
   "metadata": {},
   "outputs": [],
   "source": [
    "music = \"vehicle\"\n",
    "from joblib import load\n",
    "md1 = load(f\"./app/{music}-recommender.joblib\")"
   ]
  },
  {
   "cell_type": "code",
   "execution_count": 21,
   "id": "00f6b25c",
   "metadata": {},
   "outputs": [],
   "source": [
    "output_hal = open(f\".\\\\app\\\\{music}.pkl\", 'wb')\n",
    "str = pkl.dumps(md1)\n",
    "output_hal.write(str)\n",
    "output_hal.close()"
   ]
  },
  {
   "cell_type": "code",
   "execution_count": 17,
   "id": "91a78136",
   "metadata": {},
   "outputs": [],
   "source": [
    "model = MyClassfier()\n",
    "with open(f\".\\\\app\\\\{music}.pkl\",'rb') as file:\n",
    "    model  = pkl.loads(file.read())"
   ]
  },
  {
   "cell_type": "code",
   "execution_count": 15,
   "id": "2139c7a1",
   "metadata": {},
   "outputs": [
    {
     "data": {
      "text/plain": [
       "0     True\n",
       "1     True\n",
       "2     True\n",
       "3     True\n",
       "4     True\n",
       "5     True\n",
       "6     True\n",
       "7     True\n",
       "8     True\n",
       "9     True\n",
       "10    True\n",
       "11    True\n",
       "12    True\n",
       "13    True\n",
       "14    True\n",
       "15    True\n",
       "16    True\n",
       "17    True\n",
       "18    True\n",
       "19    True\n",
       "Name: vehicle, dtype: bool"
      ]
     },
     "execution_count": 15,
     "metadata": {},
     "output_type": "execute_result"
    }
   ],
   "source": [
    "model.predict(X.to_numpy())==y"
   ]
  }
 ],
 "metadata": {
  "kernelspec": {
   "display_name": "Python 3 (ipykernel)",
   "language": "python",
   "name": "python3"
  },
  "language_info": {
   "codemirror_mode": {
    "name": "ipython",
    "version": 3
   },
   "file_extension": ".py",
   "mimetype": "text/x-python",
   "name": "python",
   "nbconvert_exporter": "python",
   "pygments_lexer": "ipython3",
   "version": "3.7.12"
  }
 },
 "nbformat": 4,
 "nbformat_minor": 5
}
