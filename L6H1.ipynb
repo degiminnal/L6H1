{
 "cells": [
  {
   "cell_type": "code",
   "execution_count": 183,
   "id": "1c8b9677",
   "metadata": {},
   "outputs": [
    {
     "data": {
      "text/html": [
       "<div>\n",
       "<style scoped>\n",
       "    .dataframe tbody tr th:only-of-type {\n",
       "        vertical-align: middle;\n",
       "    }\n",
       "\n",
       "    .dataframe tbody tr th {\n",
       "        vertical-align: top;\n",
       "    }\n",
       "\n",
       "    .dataframe thead th {\n",
       "        text-align: right;\n",
       "    }\n",
       "</style>\n",
       "<table border=\"1\" class=\"dataframe\">\n",
       "  <thead>\n",
       "    <tr style=\"text-align: right;\">\n",
       "      <th></th>\n",
       "      <th>age</th>\n",
       "      <th>gender</th>\n",
       "      <th>watch</th>\n",
       "    </tr>\n",
       "  </thead>\n",
       "  <tbody>\n",
       "    <tr>\n",
       "      <th>0</th>\n",
       "      <td>34</td>\n",
       "      <td>0</td>\n",
       "      <td>digital</td>\n",
       "    </tr>\n",
       "    <tr>\n",
       "      <th>1</th>\n",
       "      <td>22</td>\n",
       "      <td>0</td>\n",
       "      <td>smart</td>\n",
       "    </tr>\n",
       "    <tr>\n",
       "      <th>2</th>\n",
       "      <td>50</td>\n",
       "      <td>1</td>\n",
       "      <td>quartz</td>\n",
       "    </tr>\n",
       "    <tr>\n",
       "      <th>3</th>\n",
       "      <td>19</td>\n",
       "      <td>1</td>\n",
       "      <td>quartz</td>\n",
       "    </tr>\n",
       "    <tr>\n",
       "      <th>4</th>\n",
       "      <td>51</td>\n",
       "      <td>0</td>\n",
       "      <td>smart</td>\n",
       "    </tr>\n",
       "  </tbody>\n",
       "</table>\n",
       "</div>"
      ],
      "text/plain": [
       "   age  gender    watch\n",
       "0   34       0  digital\n",
       "1   22       0    smart\n",
       "2   50       1   quartz\n",
       "3   19       1   quartz\n",
       "4   51       0    smart"
      ]
     },
     "execution_count": 183,
     "metadata": {},
     "output_type": "execute_result"
    }
   ],
   "source": [
    "import pandas as pd\n",
    "import joblib\n",
    "music = \"watch\"\n",
    "\n",
    "watch = pd.read_csv(f\"./data/{music}.csv\")\n",
    "watch.head()"
   ]
  },
  {
   "cell_type": "code",
   "execution_count": 184,
   "id": "b9ec5f7d",
   "metadata": {},
   "outputs": [
    {
     "data": {
      "text/html": [
       "<div>\n",
       "<style scoped>\n",
       "    .dataframe tbody tr th:only-of-type {\n",
       "        vertical-align: middle;\n",
       "    }\n",
       "\n",
       "    .dataframe tbody tr th {\n",
       "        vertical-align: top;\n",
       "    }\n",
       "\n",
       "    .dataframe thead th {\n",
       "        text-align: right;\n",
       "    }\n",
       "</style>\n",
       "<table border=\"1\" class=\"dataframe\">\n",
       "  <thead>\n",
       "    <tr style=\"text-align: right;\">\n",
       "      <th></th>\n",
       "      <th>age</th>\n",
       "      <th>gender</th>\n",
       "    </tr>\n",
       "  </thead>\n",
       "  <tbody>\n",
       "    <tr>\n",
       "      <th>0</th>\n",
       "      <td>34</td>\n",
       "      <td>0</td>\n",
       "    </tr>\n",
       "    <tr>\n",
       "      <th>1</th>\n",
       "      <td>22</td>\n",
       "      <td>0</td>\n",
       "    </tr>\n",
       "    <tr>\n",
       "      <th>2</th>\n",
       "      <td>50</td>\n",
       "      <td>1</td>\n",
       "    </tr>\n",
       "    <tr>\n",
       "      <th>3</th>\n",
       "      <td>19</td>\n",
       "      <td>1</td>\n",
       "    </tr>\n",
       "    <tr>\n",
       "      <th>4</th>\n",
       "      <td>51</td>\n",
       "      <td>0</td>\n",
       "    </tr>\n",
       "  </tbody>\n",
       "</table>\n",
       "</div>"
      ],
      "text/plain": [
       "   age  gender\n",
       "0   34       0\n",
       "1   22       0\n",
       "2   50       1\n",
       "3   19       1\n",
       "4   51       0"
      ]
     },
     "execution_count": 184,
     "metadata": {},
     "output_type": "execute_result"
    }
   ],
   "source": [
    "X = watch.drop(columns=[f\"{music}\"])\n",
    "X.head()"
   ]
  },
  {
   "cell_type": "code",
   "execution_count": 185,
   "id": "e0d8b5c8",
   "metadata": {},
   "outputs": [
    {
     "data": {
      "text/plain": [
       "0    digital\n",
       "1      smart\n",
       "2     quartz\n",
       "3     quartz\n",
       "4      smart\n",
       "Name: watch, dtype: object"
      ]
     },
     "execution_count": 185,
     "metadata": {},
     "output_type": "execute_result"
    }
   ],
   "source": [
    "y = watch[f\"{music}\"]\n",
    "y.head()"
   ]
  },
  {
   "cell_type": "code",
   "execution_count": 186,
   "id": "de60e718",
   "metadata": {},
   "outputs": [
    {
     "data": {
      "text/plain": [
       "['./app/watch-recommender.joblib']"
      ]
     },
     "execution_count": 186,
     "metadata": {},
     "output_type": "execute_result"
    }
   ],
   "source": [
    "import numpy as np\n",
    "from sklearn.tree import DecisionTreeClassifier\n",
    "\n",
    "dic = dict()\n",
    "model = DecisionTreeClassifier()\n",
    "def encodeStr(x_):\n",
    "    global dic\n",
    "    x = x_.copy()\n",
    "    for i,col in enumerate(x.columns):\n",
    "        if x[col].dtype!=np.object:\n",
    "            continue\n",
    "        dic[i] = {_:i for i,_ in enumerate(list(set(x[col])))}\n",
    "        x[col] = np.array([dic[i][_] for _ in x[col]])\n",
    "    return x\n",
    "\n",
    "def convert_(x):\n",
    "    try:\n",
    "        float(x)\n",
    "        return float(x)\n",
    "    except:\n",
    "        return -1\n",
    "\n",
    "model.fit(encodeStr(X),y)\n",
    "joblib.dump((model,[list(dic.keys()), [[list(x.keys()), list(x.values())] for x in dic.values()]]),f\"./app/{music}-recommender.joblib\")"
   ]
  },
  {
   "cell_type": "code",
   "execution_count": 187,
   "id": "e2daeda9",
   "metadata": {},
   "outputs": [
    {
     "data": {
      "text/plain": [
       "0      True\n",
       "1      True\n",
       "2      True\n",
       "3      True\n",
       "4      True\n",
       "5      True\n",
       "6     False\n",
       "7      True\n",
       "8      True\n",
       "9      True\n",
       "10    False\n",
       "11     True\n",
       "12     True\n",
       "13     True\n",
       "14     True\n",
       "15     True\n",
       "16     True\n",
       "17     True\n",
       "18     True\n",
       "19     True\n",
       "Name: watch, dtype: bool"
      ]
     },
     "execution_count": 187,
     "metadata": {},
     "output_type": "execute_result"
    }
   ],
   "source": [
    "from joblib import load\n",
    "md1, d = load(f\"./app/{music}-recommender.joblib\")\n",
    "dic = {d[0][i]:{a:b for a,b in zip(d[1][i][0],d[1][i][1])} for i in range(len(d[0]))}\n",
    "datas = [[dic.get(i_,{x_:convert_(x_)}).get(x_, -1) for i_,x_ in enumerate(data)] for data in X.to_numpy()]\n",
    "md1.predict(datas)==y"
   ]
  }
 ],
 "metadata": {
  "kernelspec": {
   "display_name": "Python 3 (ipykernel)",
   "language": "python",
   "name": "python3"
  },
  "language_info": {
   "codemirror_mode": {
    "name": "ipython",
    "version": 3
   },
   "file_extension": ".py",
   "mimetype": "text/x-python",
   "name": "python",
   "nbconvert_exporter": "python",
   "pygments_lexer": "ipython3",
   "version": "3.7.12"
  }
 },
 "nbformat": 4,
 "nbformat_minor": 5
}
