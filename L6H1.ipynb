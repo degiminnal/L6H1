{
 "cells": [
  {
   "cell_type": "code",
   "execution_count": 188,
   "id": "1c8b9677",
   "metadata": {},
   "outputs": [
    {
     "data": {
      "text/html": [
       "<div>\n",
       "<style scoped>\n",
       "    .dataframe tbody tr th:only-of-type {\n",
       "        vertical-align: middle;\n",
       "    }\n",
       "\n",
       "    .dataframe tbody tr th {\n",
       "        vertical-align: top;\n",
       "    }\n",
       "\n",
       "    .dataframe thead th {\n",
       "        text-align: right;\n",
       "    }\n",
       "</style>\n",
       "<table border=\"1\" class=\"dataframe\">\n",
       "  <thead>\n",
       "    <tr style=\"text-align: right;\">\n",
       "      <th></th>\n",
       "      <th>age</th>\n",
       "      <th>gender</th>\n",
       "      <th>academic-qualification</th>\n",
       "      <th>music</th>\n",
       "    </tr>\n",
       "  </thead>\n",
       "  <tbody>\n",
       "    <tr>\n",
       "      <th>0</th>\n",
       "      <td>33</td>\n",
       "      <td>0</td>\n",
       "      <td>degree</td>\n",
       "      <td>jazz</td>\n",
       "    </tr>\n",
       "    <tr>\n",
       "      <th>1</th>\n",
       "      <td>23</td>\n",
       "      <td>1</td>\n",
       "      <td>diploma</td>\n",
       "      <td>hiphop</td>\n",
       "    </tr>\n",
       "    <tr>\n",
       "      <th>2</th>\n",
       "      <td>18</td>\n",
       "      <td>0</td>\n",
       "      <td>phd</td>\n",
       "      <td>hiphop</td>\n",
       "    </tr>\n",
       "    <tr>\n",
       "      <th>3</th>\n",
       "      <td>67</td>\n",
       "      <td>0</td>\n",
       "      <td>master</td>\n",
       "      <td>jazz</td>\n",
       "    </tr>\n",
       "    <tr>\n",
       "      <th>4</th>\n",
       "      <td>54</td>\n",
       "      <td>1</td>\n",
       "      <td>diploma</td>\n",
       "      <td>classic</td>\n",
       "    </tr>\n",
       "  </tbody>\n",
       "</table>\n",
       "</div>"
      ],
      "text/plain": [
       "   age  gender academic-qualification    music\n",
       "0   33       0                 degree     jazz\n",
       "1   23       1                diploma   hiphop\n",
       "2   18       0                    phd   hiphop\n",
       "3   67       0                 master     jazz\n",
       "4   54       1                diploma  classic"
      ]
     },
     "execution_count": 188,
     "metadata": {},
     "output_type": "execute_result"
    }
   ],
   "source": [
    "import pandas as pd\n",
    "import joblib\n",
    "music = \"music\"\n",
    "\n",
    "watch = pd.read_csv(f\"./data/{music}.csv\")\n",
    "watch.head()"
   ]
  },
  {
   "cell_type": "code",
   "execution_count": 189,
   "id": "b9ec5f7d",
   "metadata": {},
   "outputs": [
    {
     "data": {
      "text/html": [
       "<div>\n",
       "<style scoped>\n",
       "    .dataframe tbody tr th:only-of-type {\n",
       "        vertical-align: middle;\n",
       "    }\n",
       "\n",
       "    .dataframe tbody tr th {\n",
       "        vertical-align: top;\n",
       "    }\n",
       "\n",
       "    .dataframe thead th {\n",
       "        text-align: right;\n",
       "    }\n",
       "</style>\n",
       "<table border=\"1\" class=\"dataframe\">\n",
       "  <thead>\n",
       "    <tr style=\"text-align: right;\">\n",
       "      <th></th>\n",
       "      <th>age</th>\n",
       "      <th>gender</th>\n",
       "      <th>academic-qualification</th>\n",
       "    </tr>\n",
       "  </thead>\n",
       "  <tbody>\n",
       "    <tr>\n",
       "      <th>0</th>\n",
       "      <td>33</td>\n",
       "      <td>0</td>\n",
       "      <td>degree</td>\n",
       "    </tr>\n",
       "    <tr>\n",
       "      <th>1</th>\n",
       "      <td>23</td>\n",
       "      <td>1</td>\n",
       "      <td>diploma</td>\n",
       "    </tr>\n",
       "    <tr>\n",
       "      <th>2</th>\n",
       "      <td>18</td>\n",
       "      <td>0</td>\n",
       "      <td>phd</td>\n",
       "    </tr>\n",
       "    <tr>\n",
       "      <th>3</th>\n",
       "      <td>67</td>\n",
       "      <td>0</td>\n",
       "      <td>master</td>\n",
       "    </tr>\n",
       "    <tr>\n",
       "      <th>4</th>\n",
       "      <td>54</td>\n",
       "      <td>1</td>\n",
       "      <td>diploma</td>\n",
       "    </tr>\n",
       "  </tbody>\n",
       "</table>\n",
       "</div>"
      ],
      "text/plain": [
       "   age  gender academic-qualification\n",
       "0   33       0                 degree\n",
       "1   23       1                diploma\n",
       "2   18       0                    phd\n",
       "3   67       0                 master\n",
       "4   54       1                diploma"
      ]
     },
     "execution_count": 189,
     "metadata": {},
     "output_type": "execute_result"
    }
   ],
   "source": [
    "X = watch.drop(columns=[f\"{music}\"])\n",
    "X.head()"
   ]
  },
  {
   "cell_type": "code",
   "execution_count": 190,
   "id": "e0d8b5c8",
   "metadata": {},
   "outputs": [
    {
     "data": {
      "text/plain": [
       "0       jazz\n",
       "1     hiphop\n",
       "2     hiphop\n",
       "3       jazz\n",
       "4    classic\n",
       "Name: music, dtype: object"
      ]
     },
     "execution_count": 190,
     "metadata": {},
     "output_type": "execute_result"
    }
   ],
   "source": [
    "y = watch[f\"{music}\"]\n",
    "y.head()"
   ]
  },
  {
   "cell_type": "code",
   "execution_count": 191,
   "id": "de60e718",
   "metadata": {},
   "outputs": [
    {
     "data": {
      "text/plain": [
       "['./app/music-recommender.joblib']"
      ]
     },
     "execution_count": 191,
     "metadata": {},
     "output_type": "execute_result"
    }
   ],
   "source": [
    "import numpy as np\n",
    "from sklearn.tree import DecisionTreeClassifier\n",
    "\n",
    "dic = dict()\n",
    "model = DecisionTreeClassifier()\n",
    "def encodeStr(x_):\n",
    "    global dic\n",
    "    x = x_.copy()\n",
    "    for i,col in enumerate(x.columns):\n",
    "        if x[col].dtype!=np.object:\n",
    "            continue\n",
    "        dic[i] = {_:i for i,_ in enumerate(list(set(x[col])))}\n",
    "        x[col] = np.array([dic[i][_] for _ in x[col]])\n",
    "    return x\n",
    "\n",
    "def convert_(x):\n",
    "    try:\n",
    "        float(x)\n",
    "        return float(x)\n",
    "    except:\n",
    "        return -1\n",
    "\n",
    "model.fit(encodeStr(X),y)\n",
    "joblib.dump((model,[list(dic.keys()), [[list(x.keys()), list(x.values())] for x in dic.values()]]),f\"./app/{music}-recommender.joblib\")"
   ]
  },
  {
   "cell_type": "code",
   "execution_count": 192,
   "id": "e2daeda9",
   "metadata": {},
   "outputs": [
    {
     "data": {
      "text/plain": [
       "0      True\n",
       "1      True\n",
       "2      True\n",
       "3      True\n",
       "4     False\n",
       "5      True\n",
       "6      True\n",
       "7      True\n",
       "8      True\n",
       "9      True\n",
       "10     True\n",
       "11     True\n",
       "12     True\n",
       "13     True\n",
       "14     True\n",
       "15     True\n",
       "16     True\n",
       "17     True\n",
       "18     True\n",
       "19     True\n",
       "20     True\n",
       "Name: music, dtype: bool"
      ]
     },
     "execution_count": 192,
     "metadata": {},
     "output_type": "execute_result"
    }
   ],
   "source": [
    "from joblib import load\n",
    "md1, d = load(f\"./app/{music}-recommender.joblib\")\n",
    "dic = {d[0][i]:{a:b for a,b in zip(d[1][i][0],d[1][i][1])} for i in range(len(d[0]))}\n",
    "datas = [[dic.get(i_,{x_:convert_(x_)}).get(x_, -1) for i_,x_ in enumerate(data)] for data in X.to_numpy()]\n",
    "md1.predict(datas)==y"
   ]
  }
 ],
 "metadata": {
  "kernelspec": {
   "display_name": "Python 3 (ipykernel)",
   "language": "python",
   "name": "python3"
  },
  "language_info": {
   "codemirror_mode": {
    "name": "ipython",
    "version": 3
   },
   "file_extension": ".py",
   "mimetype": "text/x-python",
   "name": "python",
   "nbconvert_exporter": "python",
   "pygments_lexer": "ipython3",
   "version": "3.7.12"
  }
 },
 "nbformat": 4,
 "nbformat_minor": 5
}
